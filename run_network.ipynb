{
 "cells": [
  {
   "cell_type": "code",
   "execution_count": 11,
   "metadata": {},
   "outputs": [],
   "source": [
    "%load_ext autoreload\n",
    "%autoreload 2"
   ]
  },
  {
   "cell_type": "code",
   "execution_count": 1,
   "metadata": {},
   "outputs": [],
   "source": [
    "import os\n",
    "import sys\n",
    "import numpy as np"
   ]
  },
  {
   "cell_type": "code",
   "execution_count": 2,
   "metadata": {},
   "outputs": [],
   "source": [
    "sys.path.append(\"./src\")"
   ]
  },
  {
   "cell_type": "code",
   "execution_count": 19,
   "metadata": {},
   "outputs": [],
   "source": [
    "import network\n",
    "import mnist_loader"
   ]
  },
  {
   "cell_type": "code",
   "execution_count": 16,
   "metadata": {},
   "outputs": [
    {
     "data": {
      "text/plain": [
       "'/Users/calum/GitHub/neural-networks-and-deep-learning'"
      ]
     },
     "execution_count": 16,
     "metadata": {},
     "output_type": "execute_result"
    }
   ],
   "source": [
    "mnist_loader.check_dir()"
   ]
  },
  {
   "cell_type": "code",
   "execution_count": 17,
   "metadata": {},
   "outputs": [],
   "source": [
    "training_data, validation_data, test_data = mnist_loader.load_data_wrapper()"
   ]
  },
  {
   "cell_type": "code",
   "execution_count": 20,
   "metadata": {},
   "outputs": [],
   "source": [
    "net = network.Network([784, 30, 10])"
   ]
  },
  {
   "cell_type": "code",
   "execution_count": 21,
   "metadata": {},
   "outputs": [
    {
     "name": "stdout",
     "output_type": "stream",
     "text": [
      "Epoch 0 : 8459 / 10000\n",
      "Epoch 1 : 9120 / 10000\n",
      "Epoch 2 : 9303 / 10000\n",
      "Epoch 3 : 9358 / 10000\n",
      "Epoch 4 : 9386 / 10000\n",
      "Epoch 5 : 9418 / 10000\n",
      "Epoch 6 : 9394 / 10000\n",
      "Epoch 7 : 9420 / 10000\n",
      "Epoch 8 : 9432 / 10000\n",
      "Epoch 9 : 9428 / 10000\n",
      "Epoch 10 : 9464 / 10000\n",
      "Epoch 11 : 9452 / 10000\n",
      "Epoch 12 : 9462 / 10000\n",
      "Epoch 13 : 9440 / 10000\n",
      "Epoch 14 : 9446 / 10000\n",
      "Epoch 15 : 9469 / 10000\n",
      "Epoch 16 : 9461 / 10000\n",
      "Epoch 17 : 9471 / 10000\n",
      "Epoch 18 : 9489 / 10000\n",
      "Epoch 19 : 9502 / 10000\n",
      "Epoch 20 : 9472 / 10000\n",
      "Epoch 21 : 9462 / 10000\n",
      "Epoch 22 : 9469 / 10000\n",
      "Epoch 23 : 9478 / 10000\n",
      "Epoch 24 : 9502 / 10000\n",
      "Epoch 25 : 9499 / 10000\n",
      "Epoch 26 : 9464 / 10000\n",
      "Epoch 27 : 9499 / 10000\n",
      "Epoch 28 : 9473 / 10000\n",
      "Epoch 29 : 9497 / 10000\n"
     ]
    }
   ],
   "source": [
    "net.SGD(training_data, 30, 10, 3.0, test_data=test_data)"
   ]
  },
  {
   "cell_type": "code",
   "execution_count": null,
   "metadata": {},
   "outputs": [],
   "source": []
  }
 ],
 "metadata": {
  "kernelspec": {
   "display_name": "Python 3",
   "language": "python",
   "name": "python3"
  },
  "language_info": {
   "codemirror_mode": {
    "name": "ipython",
    "version": 3
   },
   "file_extension": ".py",
   "mimetype": "text/x-python",
   "name": "python",
   "nbconvert_exporter": "python",
   "pygments_lexer": "ipython3",
   "version": "3.7.3"
  }
 },
 "nbformat": 4,
 "nbformat_minor": 2
}
